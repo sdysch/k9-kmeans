{
 "cells": [
  {
   "cell_type": "markdown",
   "id": "ab827873-d8b5-4844-a27e-28b0322371a4",
   "metadata": {},
   "source": [
    "Initial tests to check code is working"
   ]
  },
  {
   "cell_type": "code",
   "execution_count": null,
   "id": "629d3c43-6210-4929-85ab-d0395c9b4bfe",
   "metadata": {},
   "outputs": [],
   "source": [
    "# python\n",
    "import os\n",
    "import numpy as np\n",
    "import pandas as pd\n",
    "from transformers import CLIPModel, CLIPProcessor\n",
    "from tqdm import tqdm\n",
    "from sklearn.decomposition import PCA\n",
    "from sklearn.cluster import KMeans\n",
    "import matplotlib.pyplot as plt\n",
    "import seaborn as sns\n",
    "\n",
    "# local\n",
    "from k9kmeans.utils import load_and_preprocess_image, get_embeddings"
   ]
  },
  {
   "cell_type": "code",
   "execution_count": null,
   "id": "a9960cf1-cd34-46a8-8d11-f74a271820cd",
   "metadata": {},
   "outputs": [],
   "source": [
    "batch_size = 32\n",
    "device = 'cpu'\n",
    "N_LIMIT = 100\n",
    "n_clusters = 5\n",
    "outfile = '/home/sdysch/Documents/repos/k9_means/data/results_initial.csv'"
   ]
  },
  {
   "cell_type": "markdown",
   "id": "29de556a-a5a5-480f-950d-ad82e3a3cd1a",
   "metadata": {},
   "source": [
    "# Load model"
   ]
  },
  {
   "cell_type": "code",
   "execution_count": null,
   "id": "da8f84d8-4af3-40e8-a85e-fc401c38432b",
   "metadata": {},
   "outputs": [],
   "source": [
    "model_name = 'openai/clip-vit-base-patch32'\n",
    "model = CLIPModel.from_pretrained(model_name).to(device)\n",
    "processor = CLIPProcessor.from_pretrained(model_name)"
   ]
  },
  {
   "cell_type": "markdown",
   "id": "888e8773-fbed-4b4e-a3c1-d94e69dfede3",
   "metadata": {},
   "source": [
    "# Load subset of images"
   ]
  },
  {
   "cell_type": "code",
   "execution_count": null,
   "id": "65d88825-c626-41b5-b2e0-fb399e4f5393",
   "metadata": {},
   "outputs": [],
   "source": [
    "base_path = '/home/sdysch/Documents/repos/k9_means/images/'\n",
    "filenames = [\n",
    "    os.path.join(base_path, f)\n",
    "    for f in os.listdir(base_path)\n",
    "    if f.lower().endswith(('.jpg', '.jpeg', '.png', '.webp'))\n",
    "][:N_LIMIT]"
   ]
  },
  {
   "cell_type": "code",
   "execution_count": null,
   "id": "8daadece-b498-4d45-a747-e30ff11bedf0",
   "metadata": {},
   "outputs": [],
   "source": [
    "images = [load_and_preprocess_image(f) for f in filenames]"
   ]
  },
  {
   "cell_type": "markdown",
   "id": "63676de8-9fe3-4ab9-adea-b7b6d778a7a2",
   "metadata": {},
   "source": [
    "# Run process"
   ]
  },
  {
   "cell_type": "markdown",
   "id": "d74ba1c4-837c-41c5-bf8e-88e3a8cdbb7f",
   "metadata": {},
   "source": [
    "## Get embeddings"
   ]
  },
  {
   "cell_type": "code",
   "execution_count": null,
   "id": "22a50ddd-1f00-4402-85d8-572c40b06df5",
   "metadata": {},
   "outputs": [],
   "source": [
    "all_embeddings = []\n",
    "\n",
    "for i in tqdm(range(0, len(images), batch_size), desc='Extracting embeddings'):\n",
    "    batch = images[i:i+batch_size]\n",
    "    emb = get_embeddings(batch, processor, model, device=device)\n",
    "    all_embeddings.append(emb)\n",
    "\n",
    "all_embeddings = np.vstack(all_embeddings)\n",
    "print(f'Embeddings shape: {all_embeddings.shape}')"
   ]
  },
  {
   "cell_type": "markdown",
   "id": "c178a24b-676a-4a2d-8864-15ee43139c0f",
   "metadata": {},
   "source": [
    "## Reduce dimensions"
   ]
  },
  {
   "cell_type": "code",
   "execution_count": null,
   "id": "cf249026-0ccc-471a-afda-829f6c491d12",
   "metadata": {},
   "outputs": [],
   "source": [
    "pca = PCA(n_components=50)\n",
    "reduced_embeddings = pca.fit_transform(all_embeddings)"
   ]
  },
  {
   "cell_type": "markdown",
   "id": "28517572-24f3-49eb-be19-05e600726a23",
   "metadata": {},
   "source": [
    "## Clustering"
   ]
  },
  {
   "cell_type": "code",
   "execution_count": null,
   "id": "7145db4e-7eb0-4d77-bdad-3d9a8baceccf",
   "metadata": {},
   "outputs": [],
   "source": [
    "kmeans = KMeans(n_clusters=n_clusters, random_state=42)\n",
    "labels = kmeans.fit_predict(reduced_embeddings)"
   ]
  },
  {
   "cell_type": "markdown",
   "id": "ebc161c0-63cc-4f2d-bef7-f116a2292ec9",
   "metadata": {},
   "source": [
    "## Visualisation"
   ]
  },
  {
   "cell_type": "code",
   "execution_count": null,
   "id": "92997642-45d0-4b94-b853-421651abe642",
   "metadata": {},
   "outputs": [],
   "source": [
    "pca_2d = PCA(n_components=2)\n",
    "emb_2d = pca_2d.fit_transform(all_embeddings)\n",
    "\n",
    "df_clusters = pd.DataFrame({\n",
    "    'x': emb_2d[:, 0],\n",
    "    'y': emb_2d[:, 1],\n",
    "    'cluster': labels\n",
    "})"
   ]
  },
  {
   "cell_type": "code",
   "execution_count": null,
   "id": "0e50d370-fd98-464c-9061-3e3ac7cebcc2",
   "metadata": {},
   "outputs": [],
   "source": [
    "fig, ax = plt.subplots(figsize=(10, 8))\n",
    "sns.scatterplot(\n",
    "    data=df_clusters,\n",
    "    x='x',\n",
    "    y='y',\n",
    "    hue='cluster',\n",
    "    palette='tab10',\n",
    "    s=50,\n",
    "    alpha=0.8\n",
    ")\n",
    "ax.legend(loc='best', title='Cluster')"
   ]
  },
  {
   "cell_type": "markdown",
   "id": "8b242333-b992-4e75-a1f7-f703ad506840",
   "metadata": {},
   "source": [
    "## Save results for streamlit visualiation"
   ]
  },
  {
   "cell_type": "code",
   "execution_count": null,
   "id": "3fa2cf3a-bcef-477e-aa0f-56a7b6752423",
   "metadata": {},
   "outputs": [],
   "source": [
    "df_results = pd.DataFrame(filenames, columns=['filename'])\n",
    "df_results['cluster'] = labels\n",
    "df_results.to_csv(outfile)"
   ]
  },
  {
   "cell_type": "code",
   "execution_count": null,
   "id": "52ad4ec2-8104-405a-b192-aae3bb393948",
   "metadata": {},
   "outputs": [],
   "source": []
  }
 ],
 "metadata": {
  "kernelspec": {
   "display_name": "Python 3 (ipykernel)",
   "language": "python",
   "name": "python3"
  },
  "language_info": {
   "codemirror_mode": {
    "name": "ipython",
    "version": 3
   },
   "file_extension": ".py",
   "mimetype": "text/x-python",
   "name": "python",
   "nbconvert_exporter": "python",
   "pygments_lexer": "ipython3",
   "version": "3.12.11"
  }
 },
 "nbformat": 4,
 "nbformat_minor": 5
}
